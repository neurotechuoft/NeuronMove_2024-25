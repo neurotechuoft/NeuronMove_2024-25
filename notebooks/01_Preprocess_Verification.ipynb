{
 "cells": [
  {
   "cell_type": "code",
   "execution_count": 1,
   "id": "ad971cfb",
   "metadata": {},
   "outputs": [],
   "source": [
    "import mne\n",
    "import os"
   ]
  },
  {
   "cell_type": "code",
   "execution_count": 2,
   "id": "30a7d92b",
   "metadata": {},
   "outputs": [],
   "source": [
    "PROJECT_ROOT = os.path.abspath(os.path.join(os.getcwd(), '..'))\n",
    "RAW_EEG_DATA_DIR = os.path.join(PROJECT_ROOT, 'data', 'eeg', 'raw')"
   ]
  },
  {
   "cell_type": "code",
   "execution_count": 3,
   "id": "59bf22c0",
   "metadata": {},
   "outputs": [],
   "source": [
    "subj_id = '804'\n",
    "session_num = '1'\n",
    "task_name = 'REST'  \n",
    "RAW_FNAME_SUFFIX = \"-epo.fif\"  \n",
    "\n",
    "raw_fname_full = os.path.join(RAW_EEG_DATA_DIR, f\"{subj_id}_{session_num}_PD_{task_name}{RAW_FNAME_SUFFIX}\")"
   ]
  },
  {
   "cell_type": "code",
   "execution_count": 4,
   "id": "3dc3705b",
   "metadata": {},
   "outputs": [
    {
     "name": "stdout",
     "output_type": "stream",
     "text": [
      "Opening raw data file /Users/patriciawatanabe/Projects/NTUT25_Software/data/eeg/raw/804_1_PD_REST-epo.fif...\n",
      "Isotrak not found\n",
      "    Range : 0 ... 96500 =      0.000 ...   193.000 secs\n",
      "Ready.\n"
     ]
    },
    {
     "name": "stderr",
     "output_type": "stream",
     "text": [
      "/var/folders/lm/g0fsyqm52tjf6q4x94d9mdvw0000gn/T/ipykernel_5720/2517345188.py:2: RuntimeWarning: This filename (/Users/patriciawatanabe/Projects/NTUT25_Software/data/eeg/raw/804_1_PD_REST-epo.fif) does not conform to MNE naming conventions. All raw files should end with raw.fif, raw_sss.fif, raw_tsss.fif, _meg.fif, _eeg.fif, _ieeg.fif, raw.fif.gz, raw_sss.fif.gz, raw_tsss.fif.gz, _meg.fif.gz, _eeg.fif.gz or _ieeg.fif.gz\n",
      "  raw = mne.io.read_raw_fif(raw_fname_full, preload=False, verbose=True) # preload=False to save memory for quick info access\n"
     ]
    },
    {
     "name": "stdout",
     "output_type": "stream",
     "text": [
      "Loaded raw file: /Users/patriciawatanabe/Projects/NTUT25_Software/data/eeg/raw/804_1_PD_REST-epo.fif\n",
      "\n",
      "--- Raw Info Snapshot ---\n",
      "<Info | 9 non-empty values\n",
      " bads: []\n",
      " ch_names: Fp1, Fz, F3, F7, FT9, FC5, FC1, C3, T7, TP9, CP5, CP1, Pz, P3, ...\n",
      " chs: 63 EEG\n",
      " custom_ref_applied: False\n",
      " file_id: 4 items (dict)\n",
      " highpass: 0.0 Hz\n",
      " lowpass: 250.0 Hz\n",
      " meas_date: unspecified\n",
      " meas_id: 4 items (dict)\n",
      " nchan: 63\n",
      " projs: []\n",
      " sfreq: 500.0 Hz\n",
      ">\n",
      "\n",
      "--- Channel Names and Types ---\n",
      "An error occurred: 'kind_str'\n"
     ]
    }
   ],
   "source": [
    "try:\n",
    "    raw = mne.io.read_raw_fif(raw_fname_full, preload=False, verbose=True) # preload=False to save memory for quick info access\n",
    "    print(f\"Loaded raw file: {raw_fname_full}\")\n",
    "\n",
    "    print(\"\\n--- Raw Info Snapshot ---\")\n",
    "    print(raw.info) # Prints a lot of info, look for 'ch_names' and 'chs'\n",
    "\n",
    "    print(\"\\n--- Channel Names and Types ---\")\n",
    "    # Loop through channels and print their name and type as MNE understands it\n",
    "    for i, ch in enumerate(raw.info['chs']):\n",
    "        print(f\"Channel {i}: Name='{raw.ch_names[i]}', Type='{ch['kind_str']}'\")\n",
    "\n",
    "    print(\"\\n--- Raw.ch_names ---\")\n",
    "    print(raw.ch_names) # List of all channel names\n",
    "\n",
    "    print(\"\\n--- Channel types detected by MNE ---\")\n",
    "    print(raw.get_channel_types()) # Will show a list of types like ['eeg', 'stim', 'misc'] or just ['eeg']\n",
    "\n",
    "    # Test picking directly:\n",
    "    eeg_chs_test = raw.copy().pick_types(eeg=True).ch_names\n",
    "    print(f\"\\nEEG channels found: {eeg_chs_test}\")\n",
    "\n",
    "    eog_chs_test = raw.copy().pick_types(eog=True).ch_names\n",
    "    print(f\"EOG channels found: {eog_chs_test}\") # This is likely empty or raises ValueError here\n",
    "\n",
    "    misc_chs_test = raw.copy().pick_types(misc=True).ch_names\n",
    "    print(f\"Misc channels found: {misc_chs_test}\") # This is likely empty or raises ValueError here\n",
    "\n",
    "except FileNotFoundError:\n",
    "    print(f\"File not found: {raw_fname_full}. Please ensure the path and name are correct.\")\n",
    "except Exception as e:\n",
    "    print(f\"An error occurred: {e}\")"
   ]
  }
 ],
 "metadata": {
  "kernelspec": {
   "display_name": "pd_tremor",
   "language": "python",
   "name": "python3"
  },
  "language_info": {
   "codemirror_mode": {
    "name": "ipython",
    "version": 3
   },
   "file_extension": ".py",
   "mimetype": "text/x-python",
   "name": "python",
   "nbconvert_exporter": "python",
   "pygments_lexer": "ipython3",
   "version": "3.9.15"
  }
 },
 "nbformat": 4,
 "nbformat_minor": 5
}
