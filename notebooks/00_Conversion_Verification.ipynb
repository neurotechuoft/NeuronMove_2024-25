{
 "cells": [
  {
   "cell_type": "code",
   "execution_count": 7,
   "id": "78967e53",
   "metadata": {},
   "outputs": [],
   "source": [
    "import mne\n",
    "import numpy as np\n",
    "import scipy.io\n",
    "import os\n",
    "import sys"
   ]
  },
  {
   "cell_type": "code",
   "execution_count": null,
   "id": "fd80e554",
   "metadata": {},
   "outputs": [],
   "source": [
    "# --- Set up Project Root ---\n",
    "PROJECT_ROOT = os.path.abspath(os.path.join(os.getcwd(), '..'))\n",
    "# Add 'src' directory to Python path to import config\n",
    "sys.path.append(os.path.join(PROJECT_ROOT, 'src'))"
   ]
  },
  {
   "cell_type": "code",
   "execution_count": null,
   "id": "1053028a",
   "metadata": {},
   "outputs": [],
   "source": [
    "# --- Import configurations from config.py ---\n",
    "# We'll try to import config, but this notebook is for verification so it might still work if config is slightly off.\n",
    "try:\n",
    "    from eeg.config import (\n",
    "        RAW_MATLAB_DATA_DIR, \n",
    "        VEOG_CHANNEL_NAME, ACCEL_CHANNEL_NAMES, STIM_CHANNEL_NAME,\n",
    "        ALL_SUBJECTS\n",
    "    )\n",
    "except ImportError:\n",
    "    print(\"Warning: Could not import config.py. Proceeding with hardcoded paths/names for verification.\")\n",
    "    # Fallback paths/names if config.py isn't perfectly set up yet\n",
    "    RAW_MATLAB_DATA_DIR = os.path.join(PROJECT_ROOT, 'data', 'matlab_eeg')\n",
    "    VEOG_CHANNEL_NAME = 'VEOG' # Default assumption\n",
    "    ACCEL_CHANNEL_NAMES = ['ACCEL_X', 'ACCEL_Y', 'ACCEL_Z'] # Default assumption\n",
    "    STIM_CHANNEL_NAME = 'STI 014' # Default assumption\n",
    "    ALL_SUBJECTS = [804, 890] # Default assumption for testing"
   ]
  },
  {
   "cell_type": "code",
   "execution_count": null,
   "id": "6a00f8dc",
   "metadata": {},
   "outputs": [],
   "source": [
    "# --- Parameters for the specific .mat file you want to check ---\n",
    "# Pick one subject and session from your actual data\n",
    "TEST_SUBJ_ID = ALL_SUBJECTS[0] # Use the first subject in your defined list\n",
    "TEST_SESSION_NUM = 1 # Test session 1"
   ]
  },
  {
   "cell_type": "code",
   "execution_count": null,
   "id": "4b15c46c",
   "metadata": {},
   "outputs": [],
   "source": [
    "# --- Construct the full path to the .mat file ---\n",
    "# Based on your confirmed naming convention: [subjid]_[session]_PD_REST.mat\n",
    "# OR, if you need to check the _REST1.mat version for any reason:\n",
    "# mat_fname_base = f\"{TEST_SUBJ_ID}_{TEST_SESSION_NUM}_PD_REST1\"\n",
    "mat_fname_base = f\"{TEST_SUBJ_ID}_{TEST_SESSION_NUM}_PD_REST\" \n",
    "mat_fname_full = os.path.join(RAW_MATLAB_DATA_DIR, f\"{mat_fname_base}.mat\")"
   ]
  },
  {
   "cell_type": "code",
   "execution_count": 3,
   "id": "81589ca7",
   "metadata": {},
   "outputs": [
    {
     "name": "stdout",
     "output_type": "stream",
     "text": [
      "Attempting to load MATLAB file: /Users/patriciawatanabe/Projects/NTUT25_Software/data/matlab_file/804_1_PD_REST.mat\n"
     ]
    }
   ],
   "source": [
    "subj_id = 804\n",
    "session_num = 1\n",
    "mat_fname_base = f\"{subj_id}_{session_num}_PD_REST\" # Test with the base version first\n",
    "# Or, if your files are named like 804_1_PD_REST1.mat:\n",
    "# mat_fname_base = f\"{subj_id}_{session_num}_PD_REST1\" \n",
    "\n",
    "mat_fname_full = os.path.join(RAW_MATLAB_DATA_DIR, f\"{mat_fname_base}.mat\")\n",
    "\n",
    "print(f\"Attempting to load MATLAB file: {mat_fname_full}\")"
   ]
  },
  {
   "cell_type": "code",
   "execution_count": 4,
   "id": "4b5b22b6",
   "metadata": {},
   "outputs": [
    {
     "name": "stdout",
     "output_type": "stream",
     "text": [
      "Successfully loaded /Users/patriciawatanabe/Projects/NTUT25_Software/data/matlab_file/804_1_PD_REST.mat\n",
      "\n",
      "--- Top-level keys in .mat file ---\n",
      "dict_keys(['__header__', '__version__', '__globals__', 'EEG'])\n",
      "Found 'EEG' key. Proceeding with eeg_struct = mat_data['EEG']\n",
      "\n",
      "--- Keys within the EEG struct ---\n",
      "dict_keys(['setname', 'filename', 'filepath', 'subject', 'group', 'condition', 'session', 'comments', 'nbchan', 'trials', 'pnts', 'srate', 'xmin', 'xmax', 'times', 'data', 'icaact', 'icawinv', 'icasphere', 'icaweights', 'icachansind', 'chanlocs', 'urchanlocs', 'chaninfo', 'ref', 'event', 'urevent', 'eventdescription', 'epoch', 'epochdescription', 'reject', 'stats', 'specdata', 'specicaact', 'splinefile', 'icasplinefile', 'dipfit', 'history', 'saved', 'etc'])\n",
      "\n",
      "--- Inspecting EEG.chanlocs ---\n",
      "Type of chanlocs: <class 'list'>\n",
      "Chanlocs has an unexpected type or structure. Please inspect manually in MATLAB.\n",
      "\n",
      "Did not find 'labels' directly as a list/array of strings.\n",
      "\n",
      "--- Inspecting EEG.data and EEG.srate ---\n",
      "EEG.data shape: (67, 96501)\n",
      "EEG.srate: 500.0\n"
     ]
    }
   ],
   "source": [
    "try:\n",
    "    mat_data = scipy.io.loadmat(mat_fname_full, simplify_cells=True, mat_dtype=True, squeeze_me=True)\n",
    "    print(f\"Successfully loaded {mat_fname_full}\")\n",
    "\n",
    "    print(\"\\n--- Top-level keys in .mat file ---\")\n",
    "    print(mat_data.keys()) # Expect 'EEG' and '__header__', etc.\n",
    "\n",
    "    eeg_struct = mat_data.get('EEG', None)\n",
    "    if eeg_struct is None:\n",
    "        print(\"Warning: 'EEG' key not found at top level. Assuming mat_data itself is the EEG struct.\")\n",
    "        eeg_struct = mat_data\n",
    "    else:\n",
    "        print(\"Found 'EEG' key. Proceeding with eeg_struct = mat_data['EEG']\")\n",
    "\n",
    "    print(\"\\n--- Keys within the EEG struct ---\")\n",
    "    if isinstance(eeg_struct, dict):\n",
    "        print(eeg_struct.keys()) # Look for 'data', 'srate', 'chanlocs', 'event'\n",
    "    else:\n",
    "        print(f\"EEG struct is type {type(eeg_struct)}, not a dict. Cannot print keys.\")\n",
    "\n",
    "\n",
    "    print(\"\\n--- Inspecting EEG.chanlocs ---\")\n",
    "    # Try different ways to access and print chanlocs\n",
    "    if 'chanlocs' in eeg_struct:\n",
    "        chanlocs = eeg_struct['chanlocs']\n",
    "        print(f\"Type of chanlocs: {type(chanlocs)}\")\n",
    "        if isinstance(chanlocs, np.ndarray) and chanlocs.ndim == 1 and len(chanlocs) > 0:\n",
    "            print(f\"Chanlocs is a NumPy array of length {len(chanlocs)}. Inspecting first element:\")\n",
    "            print(chanlocs[0]) # This should be a dictionary/struct representing a single channel\n",
    "            if 'labels' in chanlocs[0]:\n",
    "                print(f\"Labels of first channel: {chanlocs[0]['labels']}\")\n",
    "\n",
    "        elif isinstance(chanlocs, dict): # Single chanlocs struct\n",
    "            print(f\"Chanlocs is a dictionary/struct. Inspecting it:\")\n",
    "            print(chanlocs)\n",
    "            if 'labels' in chanlocs:\n",
    "                print(f\"Labels directly in chanlocs: {chanlocs['labels']}\")\n",
    "\n",
    "        else:\n",
    "            print(\"Chanlocs has an unexpected type or structure. Please inspect manually in MATLAB.\")\n",
    "\n",
    "        # If the labels are directly a list/array of strings:\n",
    "        if 'labels' in chanlocs and isinstance(chanlocs['labels'], (list, np.ndarray)) and all(isinstance(x, str) for x in chanlocs['labels']):\n",
    "             print(f\"\\nDirect labels array found (first 5): {chanlocs['labels'][:5]}\")\n",
    "        else:\n",
    "            print(\"\\nDid not find 'labels' directly as a list/array of strings.\")\n",
    "\n",
    "\n",
    "    # --- Test raw_data_array and sfreq (for completeness) ---\n",
    "    print(\"\\n--- Inspecting EEG.data and EEG.srate ---\")\n",
    "    if 'data' in eeg_struct:\n",
    "        data = eeg_struct['data']\n",
    "        print(f\"EEG.data shape: {data.shape}\")\n",
    "    if 'srate' in eeg_struct:\n",
    "        srate = eeg_struct['srate']\n",
    "        print(f\"EEG.srate: {srate}\")\n",
    "\n",
    "\n",
    "except FileNotFoundError:\n",
    "    print(f\"Error: MATLAB file not found at {mat_fname_full}. Please check path and name.\")\n",
    "except Exception as e:\n",
    "    print(f\"An error occurred during interactive loading: {e}\")\n",
    "    import traceback\n",
    "    traceback.print_exc()"
   ]
  }
 ],
 "metadata": {
  "kernelspec": {
   "display_name": "pd_tremor",
   "language": "python",
   "name": "python3"
  },
  "language_info": {
   "codemirror_mode": {
    "name": "ipython",
    "version": 3
   },
   "file_extension": ".py",
   "mimetype": "text/x-python",
   "name": "python",
   "nbconvert_exporter": "python",
   "pygments_lexer": "ipython3",
   "version": "3.9.15"
  }
 },
 "nbformat": 4,
 "nbformat_minor": 5
}
