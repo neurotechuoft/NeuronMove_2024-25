{
 "cells": [
  {
   "cell_type": "code",
   "execution_count": 1,
   "id": "2047e3e6",
   "metadata": {},
   "outputs": [],
   "source": [
    "import pandas as pd\n",
    "import os\n",
    "import numpy as np\n",
    "import mne\n",
    "import sys"
   ]
  },
  {
   "cell_type": "code",
   "execution_count": 7,
   "id": "0e666564",
   "metadata": {},
   "outputs": [],
   "source": [
    "# Add project root to Python path to import config\n",
    "PROJECT_ROOT = os.path.abspath(os.path.join(os.getcwd(), '..', '..'))\n",
    "sys.path.append(PROJECT_ROOT)\n",
    "from src.eeg import config\n",
    "\n",
    "# --- Define a subject and session to visualize ---\n",
    "SUBJ_ID = 804  # PD subject for this example\n",
    "SESSION_NUM = 1 \n",
    "TASK_NAME = \"REST\"\n",
    "RAW_FNAME_BASE = f\"{SUBJ_ID}_{SESSION_NUM}_PD_{TASK_NAME}\"\n",
    "RAW_FNAME_FULL = os.path.join(config.RAW_EEG_DATA_DIR, f\"{RAW_FNAME_BASE}{config.RAW_FNAME_SUFFIX}\")\n"
   ]
  },
  {
   "cell_type": "code",
   "execution_count": 9,
   "id": "95c6e379",
   "metadata": {},
   "outputs": [
    {
     "name": "stdout",
     "output_type": "stream",
     "text": [
      "<Info | 10 non-empty values\n",
      " bads: []\n",
      " ch_names: Fp1, Fz, F3, F7, FT9, FC5, FC1, C3, T7, TP9, CP5, CP1, Pz, P3, ...\n",
      " chs: 63 EEG, 1 EOG, 3 misc\n",
      " custom_ref_applied: False\n",
      " dig: 66 items (3 Cardinal, 63 EEG)\n",
      " file_id: 4 items (dict)\n",
      " highpass: 0.0 Hz\n",
      " lowpass: 250.0 Hz\n",
      " meas_date: unspecified\n",
      " meas_id: 4 items (dict)\n",
      " nchan: 67\n",
      " projs: []\n",
      " sfreq: 500.0 Hz\n",
      ">\n"
     ]
    },
    {
     "name": "stderr",
     "output_type": "stream",
     "text": [
      "/var/folders/lm/g0fsyqm52tjf6q4x94d9mdvw0000gn/T/ipykernel_5745/1061606381.py:2: RuntimeWarning: This filename (/Users/patriciawatanabe/Projects/Neurotech/NTUT25_Software/data/eeg/raw/804_1_PD_REST-epo.fif) does not conform to MNE naming conventions. All raw files should end with raw.fif, raw_sss.fif, raw_tsss.fif, _meg.fif, _eeg.fif, _ieeg.fif, raw.fif.gz, raw_sss.fif.gz, raw_tsss.fif.gz, _meg.fif.gz, _eeg.fif.gz or _ieeg.fif.gz\n",
      "  raw = mne.io.read_raw_fif(RAW_FNAME_FULL, preload=True, verbose=False)\n"
     ]
    }
   ],
   "source": [
    "# Load the raw data (all channels)\n",
    "raw = mne.io.read_raw_fif(RAW_FNAME_FULL, preload=True, verbose=False)\n",
    "print(raw.info)"
   ]
  },
  {
   "cell_type": "code",
   "execution_count": 10,
   "id": "e0da8176",
   "metadata": {},
   "outputs": [
    {
     "name": "stdout",
     "output_type": "stream",
     "text": [
      "The size of '/Users/patriciawatanabe/Projects/Neurotech/NTUT25_Software/data/eeg/raw/804_1_PD_REST-epo.fif' is: 25877564 bytes\n"
     ]
    }
   ],
   "source": [
    "try:\n",
    "    file_size_bytes = os.path.getsize(RAW_FNAME_FULL)\n",
    "    print(f\"The size of '{RAW_FNAME_FULL}' is: {file_size_bytes} bytes\")\n",
    "except FileNotFoundError:\n",
    "    print(f\"Error: The file '{RAW_FNAME_FULL}' was not found.\")\n",
    "except Exception as e:\n",
    "    print(f\"An error occurred: {e}\")"
   ]
  },
  {
   "cell_type": "code",
   "execution_count": 13,
   "id": "4cd97b05",
   "metadata": {},
   "outputs": [
    {
     "name": "stdout",
     "output_type": "stream",
     "text": [
      "96501\n"
     ]
    }
   ],
   "source": [
    "acc_path = '/Users/patriciawatanabe/Projects/Neurotech/NTUT25_Software/data/accelerometer/raw/804_1_accelerometer.pkl'\n",
    "acc_raw = pd.read_pickle(acc_path)\n",
    "acc_raw = acc_raw.T\n",
    "df_accel = pd.DataFrame(acc_raw, columns=['x', 'y', 'z'])\n",
    "print(acc_raw.shape[0])"
   ]
  },
  {
   "cell_type": "code",
   "execution_count": 8,
   "id": "229317a2",
   "metadata": {},
   "outputs": [
    {
     "name": "stdout",
     "output_type": "stream",
     "text": [
      "EEG data loaded successfully.\n",
      "Shape: (68 channels x 93501 samples)\n",
      "Sampling frequency: 500.0 Hz\n"
     ]
    },
    {
     "name": "stderr",
     "output_type": "stream",
     "text": [
      "/var/folders/lm/g0fsyqm52tjf6q4x94d9mdvw0000gn/T/ipykernel_11494/1918444661.py:6: RuntimeWarning: This filename (/Users/patriciawatanabe/Projects/Neurotech/NTUT25_Software/data/eeg/labeled/labeled_801_1_PD_REST-epo.fif) does not conform to MNE naming conventions. All raw files should end with raw.fif, raw_sss.fif, raw_tsss.fif, _meg.fif, _eeg.fif, _ieeg.fif, raw.fif.gz, raw_sss.fif.gz, raw_tsss.fif.gz, _meg.fif.gz, _eeg.fif.gz or _ieeg.fif.gz\n",
      "  raw = mne.io.read_raw_fif(eeg_file_path, preload=True, verbose=False)\n"
     ]
    }
   ],
   "source": [
    "# Define the path to your labeled EEG file\n",
    "eeg_file_path = \"/Users/patriciawatanabe/Projects/Neurotech/NTUT25_Software/data/eeg/labeled/labeled_801_1_PD_REST-epo.fif\" # Update this path\n",
    "\n",
    "try:\n",
    "    # Load the EEG data\n",
    "    raw = mne.io.read_raw_fif(eeg_file_path, preload=True, verbose=False)\n",
    "    \n",
    "    # Get the number of channels and samples\n",
    "    num_channels = len(raw.ch_names)\n",
    "    num_samples = raw.n_times\n",
    "    \n",
    "    # Print the shape in a human-readable format\n",
    "    print(f\"EEG data loaded successfully.\")\n",
    "    print(f\"Shape: ({num_channels} channels x {num_samples} samples)\")\n",
    "    print(f\"Sampling frequency: {raw.info['sfreq']} Hz\")\n",
    "    \n",
    "except FileNotFoundError:\n",
    "    print(f\"Error: The file at {eeg_file_path} was not found.\")"
   ]
  },
  {
   "cell_type": "code",
   "execution_count": 9,
   "id": "47886037",
   "metadata": {},
   "outputs": [
    {
     "name": "stdout",
     "output_type": "stream",
     "text": [
      "EEG data converted to a DataFrame successfully.\n",
      "Shape: (93501, 69)\n",
      "          time           Fp1          Fz           F3            F7  \\\n",
      "0        0.000 -15555.224381  593.652367  7201.171946   9884.619154   \n",
      "1        0.002 -15550.049022  594.775367  7201.025262   9882.372804   \n",
      "2        0.004 -15537.011437  594.335957  7199.609187   9882.616811   \n",
      "3        0.006 -15525.048599  593.994162  7202.001754   9883.545339   \n",
      "4        0.008 -15516.211279  597.607403  7206.591778   9883.398190   \n",
      "...        ...           ...         ...          ...           ...   \n",
      "93496  186.992 -15696.825460 -367.236324  6827.197038  10016.308166   \n",
      "93497  186.994 -15682.177618 -365.380867  6829.003803  10014.208965   \n",
      "93498  186.996 -15671.044588 -363.867177  6823.583972   9986.523539   \n",
      "93499  186.998 -15666.991472 -359.960948  6825.341843   9988.622740   \n",
      "93500  187.000 -15673.438087 -355.712895  6836.767774  10015.576147   \n",
      "\n",
      "                FT9          FC5          FC1           C3           T7  ...  \\\n",
      "0     -22898.584604  3248.486435 -5461.377092  5982.080009  6811.572239  ...   \n",
      "1     -22902.831435  3252.343740 -5461.621098  5983.740091  6809.961051  ...   \n",
      "2     -22904.686630  3253.808478 -5460.888613  5985.400174  6810.839754  ...   \n",
      "3     -22907.616571  3253.418021 -5462.109577  5984.716583  6811.914034  ...   \n",
      "4     -22909.278050  3247.705055 -5463.330075  5983.642768  6810.107268  ...   \n",
      "...             ...          ...          ...          ...          ...  ...   \n",
      "93496 -23089.990020  2541.357419 -6096.484140  6101.220846  6778.857205  ...   \n",
      "93497 -23099.169135  2548.095770 -6094.482262  6103.271618  6772.021297  ...   \n",
      "93498 -23097.656667  2526.415978 -6097.119302  6102.050655  6774.755660  ...   \n",
      "93499 -23087.792099  2520.996146 -6095.703226  6101.220846  6788.818166  ...   \n",
      "93500 -23074.902594  2539.794892 -6091.113202  6105.810404  6803.808734  ...   \n",
      "\n",
      "               FT8           F6            F2           AF4          AF8  \\\n",
      "0      7021.582220 -1765.136723 -12461.865321 -31328.223646   223.779294   \n",
      "1      7024.169900 -1758.935512 -12460.106984 -31322.166324   228.710938   \n",
      "2      7017.333992 -1761.669875 -12464.111671 -31318.895519   225.390628   \n",
      "3      7017.870899 -1764.453133 -12474.609539 -31317.576766   224.023432   \n",
      "4      7030.029316 -1746.435533 -12468.603440 -31311.426312   239.208981   \n",
      "...            ...          ...           ...           ...          ...   \n",
      "93496  7089.257706 -1950.341742 -12593.164109 -31038.623303 -1153.076184   \n",
      "93497  7081.445307 -1953.466795 -12593.408115 -31038.671732 -1155.224629   \n",
      "93498  7080.859505 -1947.314478 -12591.845356 -31034.618616 -1144.824200   \n",
      "93499  7102.587726 -1930.175815 -12587.987818 -31024.951488 -1126.562478   \n",
      "93500  7109.814323 -1948.046847 -12585.449032 -31022.753567 -1127.343741   \n",
      "\n",
      "                VEOG         X         Y         Z  TREMOR_LABEL  \n",
      "0     -657216.906548  0.623823 -0.996951 -0.935598           0.0  \n",
      "1     -658797.919750  0.620122 -0.997985 -0.938786           0.0  \n",
      "2     -657283.663750  0.618350 -1.001284 -0.942259           0.0  \n",
      "3     -654996.931553  0.616811 -1.005281 -0.945407           0.0  \n",
      "4     -650372.803211  0.614163 -1.008645 -0.949930           0.0  \n",
      "...              ...       ...       ...       ...           ...  \n",
      "93496 -690305.471420 -0.433859 -1.354257 -0.474876           0.0  \n",
      "93497 -688914.060593 -0.434249 -1.354082 -0.477060           0.0  \n",
      "93498 -682333.111763 -0.434599 -1.353973 -0.479022           0.0  \n",
      "93499 -676666.200161 -0.435450 -1.353277 -0.479583           0.0  \n",
      "93500 -673552.453518 -0.436807 -1.351743 -0.478911           0.0  \n",
      "\n",
      "[93501 rows x 69 columns]\n"
     ]
    },
    {
     "name": "stderr",
     "output_type": "stream",
     "text": [
      "/var/folders/lm/g0fsyqm52tjf6q4x94d9mdvw0000gn/T/ipykernel_11494/2097291250.py:3: RuntimeWarning: This filename (/Users/patriciawatanabe/Projects/Neurotech/NTUT25_Software/data/eeg/labeled/labeled_801_1_PD_REST-epo.fif) does not conform to MNE naming conventions. All raw files should end with raw.fif, raw_sss.fif, raw_tsss.fif, _meg.fif, _eeg.fif, _ieeg.fif, raw.fif.gz, raw_sss.fif.gz, raw_tsss.fif.gz, _meg.fif.gz, _eeg.fif.gz or _ieeg.fif.gz\n",
      "  raw = mne.io.read_raw_fif(eeg_file_path, preload=True, verbose=False)\n"
     ]
    }
   ],
   "source": [
    "try:\n",
    "    # Load the EEG data\n",
    "    raw = mne.io.read_raw_fif(eeg_file_path, preload=True, verbose=False)\n",
    "    \n",
    "    # Convert the MNE Raw object to a pandas DataFrame\n",
    "    df_eeg = raw.to_data_frame()\n",
    "    \n",
    "    # Print the shape and first 5 rows\n",
    "    print(f\"EEG data converted to a DataFrame successfully.\")\n",
    "    print(f\"Shape: {df_eeg.shape}\")\n",
    "    print(df_eeg)\n",
    "    \n",
    "except FileNotFoundError:\n",
    "    print(f\"Error: The file at {eeg_file_path} was not found.\")"
   ]
  },
  {
   "cell_type": "code",
   "execution_count": 10,
   "id": "c1b7415a",
   "metadata": {},
   "outputs": [
    {
     "name": "stdout",
     "output_type": "stream",
     "text": [
      "Index(['time', 'Fp1', 'Fz', 'F3', 'F7', 'FT9', 'FC5', 'FC1', 'C3', 'T7', 'TP9',\n",
      "       'CP5', 'CP1', 'Pz', 'P3', 'P7', 'O1', 'Oz', 'O2', 'P4', 'P8', 'TP10',\n",
      "       'CP6', 'CP2', 'Cz', 'C4', 'T8', 'FT10', 'FC6', 'FC2', 'F4', 'F8', 'Fp2',\n",
      "       'AF7', 'AF3', 'AFz', 'F1', 'F5', 'FT7', 'FC3', 'FCz', 'C1', 'C5', 'TP7',\n",
      "       'CP3', 'P1', 'P5', 'PO7', 'PO3', 'POz', 'PO4', 'PO8', 'P6', 'P2', 'CP4',\n",
      "       'TP8', 'C6', 'C2', 'FC4', 'FT8', 'F6', 'F2', 'AF4', 'AF8', 'VEOG', 'X',\n",
      "       'Y', 'Z', 'TREMOR_LABEL'],\n",
      "      dtype='object')\n"
     ]
    }
   ],
   "source": [
    "print(df_eeg.columns)"
   ]
  }
 ],
 "metadata": {
  "kernelspec": {
   "display_name": "pd_tremor_modern",
   "language": "python",
   "name": "python3"
  },
  "language_info": {
   "codemirror_mode": {
    "name": "ipython",
    "version": 3
   },
   "file_extension": ".py",
   "mimetype": "text/x-python",
   "name": "python",
   "nbconvert_exporter": "python",
   "pygments_lexer": "ipython3",
   "version": "3.10.18"
  }
 },
 "nbformat": 4,
 "nbformat_minor": 5
}
